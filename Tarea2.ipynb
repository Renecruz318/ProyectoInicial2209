{
  "nbformat": 4,
  "nbformat_minor": 0,
  "metadata": {
    "colab": {
      "name": "Tarea2.ipynb",
      "provenance": [],
      "collapsed_sections": [],
      "authorship_tag": "ABX9TyNomYG8B0AQ00tnZEgFZzIN",
      "include_colab_link": true
    },
    "kernelspec": {
      "name": "python3",
      "display_name": "Python 3"
    },
    "language_info": {
      "name": "python"
    }
  },
  "cells": [
    {
      "cell_type": "markdown",
      "metadata": {
        "id": "view-in-github",
        "colab_type": "text"
      },
      "source": [
        "<a href=\"https://colab.research.google.com/github/Renecruz318/ProyectoInicial2209/blob/master/Tarea2.ipynb\" target=\"_parent\"><img src=\"https://colab.research.google.com/assets/colab-badge.svg\" alt=\"Open In Colab\"/></a>"
      ]
    },
    {
      "cell_type": "code",
      "metadata": {
        "colab": {
          "base_uri": "https://localhost:8080/"
        },
        "id": "qgEEB9E5TGQf",
        "outputId": "772b46ef-460c-41bd-f747-c7cc8e7aa876"
      },
      "source": [
        "print('series de fibonacci con recursividad')\n",
        "def serie ( n ):\n",
        "    if n == 0:\n",
        "        return 0\n",
        "    elif n == 1:\n",
        "        return 1\n",
        "    else:\n",
        "        return serie(n-1)+serie(n-2)\n",
        "\n",
        "n = int\n",
        "    (input('introduce un numero entero: '))\n",
        "    print(serie(n))"
      ],
      "execution_count": 10,
      "outputs": [
        {
          "output_type": "stream",
          "name": "stdout",
          "text": [
            "introduce un numero entero: 9\n",
            "34\n"
          ]
        }
      ]
    },
    {
      "cell_type": "code",
      "metadata": {
        "colab": {
          "base_uri": "https://localhost:8080/"
        },
        "id": "eXdsUHRxaxLo",
        "outputId": "8f696d6c-4d4a-4b43-cf8c-0573aa384df7"
      },
      "source": [
        "print(\"lista y suma con recursividad\")\n",
        "def sumalista(listaNumeros):\n",
        "   if len(listaNumeros) == 1: #len devuelve los numeros de la lista\n",
        "        return listaNumeros[0]\n",
        "   else:\n",
        "        return listaNumeros[0] + sumalista(listaNumeros[1:])\n",
        "\n",
        "print(sumalista([1,2,3,4,5]))"
      ],
      "execution_count": 30,
      "outputs": [
        {
          "output_type": "stream",
          "name": "stdout",
          "text": [
            "15\n"
          ]
        }
      ]
    },
    {
      "cell_type": "code",
      "metadata": {
        "colab": {
          "base_uri": "https://localhost:8080/"
        },
        "id": "qO7FI3A5e-_Q",
        "outputId": "e7ef0376-03db-4ca9-9df2-a88e22fd353b"
      },
      "source": [
        "num=21\n",
        "for i in range(1,num+1):\n",
        "     print(num-i)\n",
        "print(\"BOOOOOMMMMMMMM!!!!!\")"
      ],
      "execution_count": 34,
      "outputs": [
        {
          "output_type": "stream",
          "name": "stdout",
          "text": [
            "20\n",
            "19\n",
            "18\n",
            "17\n",
            "16\n",
            "15\n",
            "14\n",
            "13\n",
            "12\n",
            "11\n",
            "10\n",
            "9\n",
            "8\n",
            "7\n",
            "6\n",
            "5\n",
            "4\n",
            "3\n",
            "2\n",
            "1\n",
            "0\n",
            "BOOOOOMMMMMMMM!!!!!\n"
          ]
        }
      ]
    },
    {
      "cell_type": "code",
      "metadata": {
        "id": "B4rvutabaxAB"
      },
      "source": [
        ""
      ],
      "execution_count": null,
      "outputs": []
    }
  ]
}